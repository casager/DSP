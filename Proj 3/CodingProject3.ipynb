{
 "cells": [
  {
   "cell_type": "code",
   "execution_count": 4,
   "metadata": {},
   "outputs": [],
   "source": [
    "import numpy as np\n",
    "import matplotlib.pyplot as plt\n",
    "import scipy as sp\n",
    "from scipy import signal"
   ]
  },
  {
   "cell_type": "code",
   "execution_count": 3,
   "metadata": {},
   "outputs": [],
   "source": [
    "# Original Parameters\n",
    "sampling_rate =  1000 # 1000 Hz\n",
    "duration1 = 1  # seconds\n",
    "N = duration1 * 1000 #number of samples\n",
    "t = np.linspace(0, duration1, int(N), endpoint=False)\n",
    "term1 = 100 * np.sin(2*np.pi*100*t)\n",
    "term2 = 3 * np.sin(2*np.pi*98*t + np.pi/4)\n",
    "term3 = 50 * np.sin(2*np.pi*95*t + np.pi/4)\n",
    "signal = term1 + term2 + term3\n",
    "\n",
    "#https://www.youtube.com/watch?v=ETgDTKKz_dQ\n",
    "#https://docs.scipy.org/doc/scipy/reference/generated/scipy.signal.get_window.html"
   ]
  }
 ],
 "metadata": {
  "kernelspec": {
   "display_name": "Python 3",
   "language": "python",
   "name": "python3"
  },
  "language_info": {
   "codemirror_mode": {
    "name": "ipython",
    "version": 3
   },
   "file_extension": ".py",
   "mimetype": "text/x-python",
   "name": "python",
   "nbconvert_exporter": "python",
   "pygments_lexer": "ipython3",
   "version": "3.11.7"
  }
 },
 "nbformat": 4,
 "nbformat_minor": 2
}
